{
 "cells": [
  {
   "cell_type": "code",
   "execution_count": 7,
   "metadata": {},
   "outputs": [],
   "source": [
    "#=\n",
    "Author:= Shreeda Bhat\n",
    "License:= MIT \n",
    "UTF-8 =#"
   ]
  },
  {
   "cell_type": "markdown",
   "metadata": {},
   "source": [
    "## Reading a CSV File \n",
    "------------------------\n",
    "\n",
    "For reading CSV unlike in python, we use `DelimitedFiles` package"
   ]
  },
  {
   "cell_type": "code",
   "execution_count": 47,
   "metadata": {},
   "outputs": [],
   "source": [
    "using DelimitedFiles"
   ]
  },
  {
   "cell_type": "code",
   "execution_count": 48,
   "metadata": {},
   "outputs": [
    {
     "data": {
      "text/plain": [
       "54×9 Array{Any,2}:\n",
       " \"25 Nov 2015\"  28637  11314  3804  2536  …  4808     14122     3955   \n",
       " \"18 Nov 2015\"  28634  11314  3804  2536     4808     14122     3955   \n",
       " \"11 Nov 2015\"  28635  11314  3805  2536     4808     14122     3955   \n",
       " \"4 Nov 2015\"   28607  11314  3810  2536     4808     14089     3955   \n",
       " \"25 Oct 2015\"  28539  11298  3806  2535     4808     14061     3955   \n",
       " \"18 Oct 2015\"  28476  11298  3803  2535  …  4808     14001     3955   \n",
       " \"11 Oct 2015\"  28454  11297  3800  2534     4808     13982     3955   \n",
       " \"27 Sep 2015\"  28388  11296  3805  2533     4808     13911     3955   \n",
       " \"20 Sep 2015\"  28295  11295  3800  2532     4808     13823     3955   \n",
       " \"13 Sep 2015\"  28220  11291  3792  2530     4808     13756     3953   \n",
       " \"6 Sep 2015\"   28147  11291  3792  2530  …  4808     13683     3953   \n",
       " \"30 Aug 2015\"  28073  11290  3792  2529     4808     13609     3953   \n",
       " \"16 Aug 2015\"  27952  11284  3786  2524     4808     13494     3952   \n",
       " ⋮                                        ⋱                            \n",
       " \"9 Aug 2014\"    1835   1011   506   373      323       730      315   \n",
       " \"30 Jul 2014\"   1437    825   472   346      227       574      252   \n",
       " \"23 Jul 2014\"   1201    672   427   319      129       525      224   \n",
       " \"14 Jul 2014\"    982    613   411   310  …   106       397      197   \n",
       " \"2 Jul 2014\"     779    481   412   305       75       252      101   \n",
       " \"17 Jun 2014\"    528    337   398   264       24        97       49   \n",
       " \"27 May 2014\"    309    202   281   186       11        16        5   \n",
       " \"12 May 2014\"    260    182   248   171       11          \"–\"      \"–\"\n",
       " \"1 May 2014\"     239    160   226   149  …    11          \"-\"      \"-\"\n",
       " \"14 Apr 2014\"    176    110   168   108        2          \"–\"      \"–\"\n",
       " \"31 Mar 2014\"    130     82   122    80        2          \"–\"      \"–\"\n",
       " \"22 Mar 2014\"     49     29    49    29         \"–\"       \"–\"      \"–\""
      ]
     },
     "execution_count": 48,
     "metadata": {},
     "output_type": "execute_result"
    }
   ],
   "source": [
    "df = DelimitedFiles.readdlm(\"../Data/wikipediaEVDraw.csv\",',')"
   ]
  },
  {
   "cell_type": "code",
   "execution_count": 49,
   "metadata": {},
   "outputs": [],
   "source": [
    "using CSV "
   ]
  },
  {
   "cell_type": "code",
   "execution_count": 50,
   "metadata": {},
   "outputs": [
    {
     "data": {
      "text/html": [
       "<table class=\"data-frame\"><thead><tr><th></th><th>25 Nov 2015</th><th>28637</th><th>11314</th><th>3804</th><th>2536</th><th>10675</th><th>4808</th><th>14122</th><th>3955</th></tr><tr><th></th><th>String</th><th>Int64</th><th>Int64</th><th>Int64</th><th>Int64</th><th>String</th><th>String</th><th>String</th><th>String</th></tr></thead><tbody><p>53 rows × 9 columns</p><tr><th>1</th><td>18 Nov 2015</td><td>28634</td><td>11314</td><td>3804</td><td>2536</td><td>10672</td><td>4808</td><td>14122</td><td>3955</td></tr><tr><th>2</th><td>11 Nov 2015</td><td>28635</td><td>11314</td><td>3805</td><td>2536</td><td>10672</td><td>4808</td><td>14122</td><td>3955</td></tr><tr><th>3</th><td>4 Nov 2015</td><td>28607</td><td>11314</td><td>3810</td><td>2536</td><td>10672</td><td>4808</td><td>14089</td><td>3955</td></tr><tr><th>4</th><td>25 Oct 2015</td><td>28539</td><td>11298</td><td>3806</td><td>2535</td><td>10672</td><td>4808</td><td>14061</td><td>3955</td></tr><tr><th>5</th><td>18 Oct 2015</td><td>28476</td><td>11298</td><td>3803</td><td>2535</td><td>10672</td><td>4808</td><td>14001</td><td>3955</td></tr><tr><th>6</th><td>11 Oct 2015</td><td>28454</td><td>11297</td><td>3800</td><td>2534</td><td>10672</td><td>4808</td><td>13982</td><td>3955</td></tr><tr><th>7</th><td>27 Sep 2015</td><td>28388</td><td>11296</td><td>3805</td><td>2533</td><td>10672</td><td>4808</td><td>13911</td><td>3955</td></tr><tr><th>8</th><td>20 Sep 2015</td><td>28295</td><td>11295</td><td>3800</td><td>2532</td><td>10672</td><td>4808</td><td>13823</td><td>3955</td></tr><tr><th>9</th><td>13 Sep 2015</td><td>28220</td><td>11291</td><td>3792</td><td>2530</td><td>10672</td><td>4808</td><td>13756</td><td>3953</td></tr><tr><th>10</th><td>6 Sep 2015</td><td>28147</td><td>11291</td><td>3792</td><td>2530</td><td>10672</td><td>4808</td><td>13683</td><td>3953</td></tr><tr><th>11</th><td>30 Aug 2015</td><td>28073</td><td>11290</td><td>3792</td><td>2529</td><td>10672</td><td>4808</td><td>13609</td><td>3953</td></tr><tr><th>12</th><td>16 Aug 2015</td><td>27952</td><td>11284</td><td>3786</td><td>2524</td><td>10672</td><td>4808</td><td>13494</td><td>3952</td></tr><tr><th>13</th><td>9 Aug 2015</td><td>27929</td><td>11283</td><td>3787</td><td>2524</td><td>10672</td><td>4808</td><td>13470</td><td>3951</td></tr><tr><th>14</th><td>26 Jul 2015</td><td>27748</td><td>11279</td><td>3786</td><td>2520</td><td>10672</td><td>4808</td><td>13290</td><td>3951</td></tr><tr><th>15</th><td>12 Jul 2015</td><td>27642</td><td>11261</td><td>3760</td><td>2506</td><td>10673</td><td>4808</td><td>13209</td><td>3947</td></tr><tr><th>16</th><td>5 Jul 2015</td><td>27573</td><td>11246</td><td>3748</td><td>2499</td><td>10670</td><td>4807</td><td>13155</td><td>3940</td></tr><tr><th>17</th><td>28 Jun 2015</td><td>27514</td><td>11220</td><td>3729</td><td>2482</td><td>10666</td><td>4806</td><td>13119</td><td>3932</td></tr><tr><th>18</th><td>21 Jun 2015</td><td>27443</td><td>11207</td><td>3718</td><td>2473</td><td>10666</td><td>4806</td><td>13059</td><td>3924</td></tr><tr><th>19</th><td>14 Jun 2015</td><td>27305</td><td>11169</td><td>3674</td><td>2444</td><td>10666</td><td>4806</td><td>12965</td><td>3919</td></tr><tr><th>20</th><td>31 May 2015</td><td>27110</td><td>11132</td><td>3652</td><td>2429</td><td>10666</td><td>4806</td><td>12827</td><td>3912</td></tr><tr><th>21</th><td>17 May 2015</td><td>26898</td><td>11105</td><td>3635</td><td>2407</td><td>10666</td><td>4806</td><td>12632</td><td>3907</td></tr><tr><th>22</th><td>3 May 2015</td><td>26558</td><td>10990</td><td>3589</td><td>2386</td><td>10564</td><td>4716</td><td>12440</td><td>3903</td></tr><tr><th>23</th><td>19 Apr 2015</td><td>26009</td><td>10793</td><td>3565</td><td>2358</td><td>10212</td><td>4573</td><td>12267</td><td>3877</td></tr><tr><th>24</th><td>5 Apr 2015</td><td>25480</td><td>10557</td><td>3515</td><td>2333</td><td>9862</td><td>4408</td><td>12138</td><td>3831</td></tr><tr><th>25</th><td>22 Mar 2015</td><td>24837</td><td>10296</td><td>3429</td><td>2263</td><td>9602</td><td>4301</td><td>11841</td><td>3747</td></tr><tr><th>26</th><td>8 Mar 2015</td><td>24282</td><td>9976</td><td>3285</td><td>2170</td><td>9343</td><td>4162</td><td>11619</td><td>3629</td></tr><tr><th>27</th><td>22 Feb 2015</td><td>23659</td><td>9574</td><td>3155</td><td>2091</td><td>9238</td><td>4037</td><td>11301</td><td>3461</td></tr><tr><th>28</th><td>8 Feb 2015</td><td>22824</td><td>9147</td><td>3044</td><td>1995</td><td>8881</td><td>3826</td><td>10934</td><td>3341</td></tr><tr><th>29</th><td>25 Jan 2015</td><td>22022</td><td>8780</td><td>2917</td><td>1910</td><td>8622</td><td>3686</td><td>10518</td><td>3199</td></tr><tr><th>30</th><td>11 Jan 2015</td><td>21226</td><td>8399</td><td>2806</td><td>1814</td><td>8331</td><td>3538</td><td>10124</td><td>3062</td></tr><tr><th>&vellip;</th><td>&vellip;</td><td>&vellip;</td><td>&vellip;</td><td>&vellip;</td><td>&vellip;</td><td>&vellip;</td><td>&vellip;</td><td>&vellip;</td><td>&vellip;</td></tr></tbody></table>"
      ],
      "text/latex": [
       "\\begin{tabular}{r|ccccccccc}\n",
       "\t& 25 Nov 2015 & 28637 & 11314 & 3804 & 2536 & 10675 & 4808 & 14122 & 3955\\\\\n",
       "\t\\hline\n",
       "\t& String & Int64 & Int64 & Int64 & Int64 & String & String & String & String\\\\\n",
       "\t\\hline\n",
       "\t1 & 18 Nov 2015 & 28634 & 11314 & 3804 & 2536 & 10672 & 4808 & 14122 & 3955 \\\\\n",
       "\t2 & 11 Nov 2015 & 28635 & 11314 & 3805 & 2536 & 10672 & 4808 & 14122 & 3955 \\\\\n",
       "\t3 & 4 Nov 2015 & 28607 & 11314 & 3810 & 2536 & 10672 & 4808 & 14089 & 3955 \\\\\n",
       "\t4 & 25 Oct 2015 & 28539 & 11298 & 3806 & 2535 & 10672 & 4808 & 14061 & 3955 \\\\\n",
       "\t5 & 18 Oct 2015 & 28476 & 11298 & 3803 & 2535 & 10672 & 4808 & 14001 & 3955 \\\\\n",
       "\t6 & 11 Oct 2015 & 28454 & 11297 & 3800 & 2534 & 10672 & 4808 & 13982 & 3955 \\\\\n",
       "\t7 & 27 Sep 2015 & 28388 & 11296 & 3805 & 2533 & 10672 & 4808 & 13911 & 3955 \\\\\n",
       "\t8 & 20 Sep 2015 & 28295 & 11295 & 3800 & 2532 & 10672 & 4808 & 13823 & 3955 \\\\\n",
       "\t9 & 13 Sep 2015 & 28220 & 11291 & 3792 & 2530 & 10672 & 4808 & 13756 & 3953 \\\\\n",
       "\t10 & 6 Sep 2015 & 28147 & 11291 & 3792 & 2530 & 10672 & 4808 & 13683 & 3953 \\\\\n",
       "\t11 & 30 Aug 2015 & 28073 & 11290 & 3792 & 2529 & 10672 & 4808 & 13609 & 3953 \\\\\n",
       "\t12 & 16 Aug 2015 & 27952 & 11284 & 3786 & 2524 & 10672 & 4808 & 13494 & 3952 \\\\\n",
       "\t13 & 9 Aug 2015 & 27929 & 11283 & 3787 & 2524 & 10672 & 4808 & 13470 & 3951 \\\\\n",
       "\t14 & 26 Jul 2015 & 27748 & 11279 & 3786 & 2520 & 10672 & 4808 & 13290 & 3951 \\\\\n",
       "\t15 & 12 Jul 2015 & 27642 & 11261 & 3760 & 2506 & 10673 & 4808 & 13209 & 3947 \\\\\n",
       "\t16 & 5 Jul 2015 & 27573 & 11246 & 3748 & 2499 & 10670 & 4807 & 13155 & 3940 \\\\\n",
       "\t17 & 28 Jun 2015 & 27514 & 11220 & 3729 & 2482 & 10666 & 4806 & 13119 & 3932 \\\\\n",
       "\t18 & 21 Jun 2015 & 27443 & 11207 & 3718 & 2473 & 10666 & 4806 & 13059 & 3924 \\\\\n",
       "\t19 & 14 Jun 2015 & 27305 & 11169 & 3674 & 2444 & 10666 & 4806 & 12965 & 3919 \\\\\n",
       "\t20 & 31 May 2015 & 27110 & 11132 & 3652 & 2429 & 10666 & 4806 & 12827 & 3912 \\\\\n",
       "\t21 & 17 May 2015 & 26898 & 11105 & 3635 & 2407 & 10666 & 4806 & 12632 & 3907 \\\\\n",
       "\t22 & 3 May 2015 & 26558 & 10990 & 3589 & 2386 & 10564 & 4716 & 12440 & 3903 \\\\\n",
       "\t23 & 19 Apr 2015 & 26009 & 10793 & 3565 & 2358 & 10212 & 4573 & 12267 & 3877 \\\\\n",
       "\t24 & 5 Apr 2015 & 25480 & 10557 & 3515 & 2333 & 9862 & 4408 & 12138 & 3831 \\\\\n",
       "\t25 & 22 Mar 2015 & 24837 & 10296 & 3429 & 2263 & 9602 & 4301 & 11841 & 3747 \\\\\n",
       "\t26 & 8 Mar 2015 & 24282 & 9976 & 3285 & 2170 & 9343 & 4162 & 11619 & 3629 \\\\\n",
       "\t27 & 22 Feb 2015 & 23659 & 9574 & 3155 & 2091 & 9238 & 4037 & 11301 & 3461 \\\\\n",
       "\t28 & 8 Feb 2015 & 22824 & 9147 & 3044 & 1995 & 8881 & 3826 & 10934 & 3341 \\\\\n",
       "\t29 & 25 Jan 2015 & 22022 & 8780 & 2917 & 1910 & 8622 & 3686 & 10518 & 3199 \\\\\n",
       "\t30 & 11 Jan 2015 & 21226 & 8399 & 2806 & 1814 & 8331 & 3538 & 10124 & 3062 \\\\\n",
       "\t$\\dots$ & $\\dots$ & $\\dots$ & $\\dots$ & $\\dots$ & $\\dots$ & $\\dots$ & $\\dots$ & $\\dots$ & $\\dots$ \\\\\n",
       "\\end{tabular}\n"
      ],
      "text/plain": [
       "53×9 DataFrame. Omitted printing of 1 columns\n",
       "│ Row │ 25 Nov 2015 │ 28637 │ 11314 │ 3804  │ 2536  │ 10675  │ 4808   │ 14122  │\n",
       "│     │ \u001b[90mString\u001b[39m      │ \u001b[90mInt64\u001b[39m │ \u001b[90mInt64\u001b[39m │ \u001b[90mInt64\u001b[39m │ \u001b[90mInt64\u001b[39m │ \u001b[90mString\u001b[39m │ \u001b[90mString\u001b[39m │ \u001b[90mString\u001b[39m │\n",
       "├─────┼─────────────┼───────┼───────┼───────┼───────┼────────┼────────┼────────┤\n",
       "│ 1   │ 18 Nov 2015 │ 28634 │ 11314 │ 3804  │ 2536  │ 10672  │ 4808   │ 14122  │\n",
       "│ 2   │ 11 Nov 2015 │ 28635 │ 11314 │ 3805  │ 2536  │ 10672  │ 4808   │ 14122  │\n",
       "│ 3   │ 4 Nov 2015  │ 28607 │ 11314 │ 3810  │ 2536  │ 10672  │ 4808   │ 14089  │\n",
       "│ 4   │ 25 Oct 2015 │ 28539 │ 11298 │ 3806  │ 2535  │ 10672  │ 4808   │ 14061  │\n",
       "│ 5   │ 18 Oct 2015 │ 28476 │ 11298 │ 3803  │ 2535  │ 10672  │ 4808   │ 14001  │\n",
       "│ 6   │ 11 Oct 2015 │ 28454 │ 11297 │ 3800  │ 2534  │ 10672  │ 4808   │ 13982  │\n",
       "│ 7   │ 27 Sep 2015 │ 28388 │ 11296 │ 3805  │ 2533  │ 10672  │ 4808   │ 13911  │\n",
       "│ 8   │ 20 Sep 2015 │ 28295 │ 11295 │ 3800  │ 2532  │ 10672  │ 4808   │ 13823  │\n",
       "│ 9   │ 13 Sep 2015 │ 28220 │ 11291 │ 3792  │ 2530  │ 10672  │ 4808   │ 13756  │\n",
       "│ 10  │ 6 Sep 2015  │ 28147 │ 11291 │ 3792  │ 2530  │ 10672  │ 4808   │ 13683  │\n",
       "⋮\n",
       "│ 43  │ 30 Jul 2014 │ 1437  │ 825   │ 472   │ 346   │ 391    │ 227    │ 574    │\n",
       "│ 44  │ 23 Jul 2014 │ 1201  │ 672   │ 427   │ 319   │ 249    │ 129    │ 525    │\n",
       "│ 45  │ 14 Jul 2014 │ 982   │ 613   │ 411   │ 310   │ 174    │ 106    │ 397    │\n",
       "│ 46  │ 2 Jul 2014  │ 779   │ 481   │ 412   │ 305   │ 115    │ 75     │ 252    │\n",
       "│ 47  │ 17 Jun 2014 │ 528   │ 337   │ 398   │ 264   │ 33     │ 24     │ 97     │\n",
       "│ 48  │ 27 May 2014 │ 309   │ 202   │ 281   │ 186   │ 12     │ 11     │ 16     │\n",
       "│ 49  │ 12 May 2014 │ 260   │ 182   │ 248   │ 171   │ 12     │ 11     │ –      │\n",
       "│ 50  │ 1 May 2014  │ 239   │ 160   │ 226   │ 149   │ 13     │ 11     │ -      │\n",
       "│ 51  │ 14 Apr 2014 │ 176   │ 110   │ 168   │ 108   │ 8      │ 2      │ –      │\n",
       "│ 52  │ 31 Mar 2014 │ 130   │ 82    │ 122   │ 80    │ 8      │ 2      │ –      │\n",
       "│ 53  │ 22 Mar 2014 │ 49    │ 29    │ 49    │ 29    │ –      │ –      │ –      │"
      ]
     },
     "execution_count": 50,
     "metadata": {},
     "output_type": "execute_result"
    }
   ],
   "source": [
    "new_df = CSV.read(\"../Data/wikipediaEVDraw.csv\")"
   ]
  },
  {
   "cell_type": "markdown",
   "metadata": {},
   "source": [
    "## Let's use Datetime package in Julia \n",
    "-------------------------------------------------------------\n",
    "it's simple just like python3 `import datetime` in julia `Using Dates`"
   ]
  },
  {
   "cell_type": "code",
   "execution_count": 51,
   "metadata": {},
   "outputs": [],
   "source": [
    "using Dates"
   ]
  },
  {
   "cell_type": "code",
   "execution_count": 52,
   "metadata": {},
   "outputs": [
    {
     "data": {
      "text/plain": [
       "2015-11-25T00:00:00"
      ]
     },
     "execution_count": 52,
     "metadata": {},
     "output_type": "execute_result"
    }
   ],
   "source": [
    "Dates.DateTime(df[1,1],\"d u y\")"
   ]
  },
  {
   "cell_type": "markdown",
   "metadata": {},
   "source": [
    "# We just need to convert the first column to datetime\n",
    "---------------------------------------------------------"
   ]
  },
  {
   "cell_type": "code",
   "execution_count": 53,
   "metadata": {},
   "outputs": [
    {
     "data": {
      "text/plain": [
       "54-element Array{Any,1}:\n",
       " \"25 Nov 2015\"\n",
       " \"18 Nov 2015\"\n",
       " \"11 Nov 2015\"\n",
       " \"4 Nov 2015\" \n",
       " \"25 Oct 2015\"\n",
       " \"18 Oct 2015\"\n",
       " \"11 Oct 2015\"\n",
       " \"27 Sep 2015\"\n",
       " \"20 Sep 2015\"\n",
       " \"13 Sep 2015\"\n",
       " \"6 Sep 2015\" \n",
       " \"30 Aug 2015\"\n",
       " \"16 Aug 2015\"\n",
       " ⋮            \n",
       " \"9 Aug 2014\" \n",
       " \"30 Jul 2014\"\n",
       " \"23 Jul 2014\"\n",
       " \"14 Jul 2014\"\n",
       " \"2 Jul 2014\" \n",
       " \"17 Jun 2014\"\n",
       " \"27 May 2014\"\n",
       " \"12 May 2014\"\n",
       " \"1 May 2014\" \n",
       " \"14 Apr 2014\"\n",
       " \"31 Mar 2014\"\n",
       " \"22 Mar 2014\""
      ]
     },
     "execution_count": 53,
     "metadata": {},
     "output_type": "execute_result"
    }
   ],
   "source": [
    "col1 = df[:,1]"
   ]
  },
  {
   "cell_type": "code",
   "execution_count": 54,
   "metadata": {},
   "outputs": [],
   "source": [
    "for i = 1:length(col1)\n",
    "    col1[i] = Dates.DateTime(col1[i],\"d u y\")\n",
    "end"
   ]
  },
  {
   "cell_type": "code",
   "execution_count": 55,
   "metadata": {},
   "outputs": [
    {
     "data": {
      "text/plain": [
       "54-element Array{Any,1}:\n",
       " 2015-11-25T00:00:00\n",
       " 2015-11-18T00:00:00\n",
       " 2015-11-11T00:00:00\n",
       " 2015-11-04T00:00:00\n",
       " 2015-10-25T00:00:00\n",
       " 2015-10-18T00:00:00\n",
       " 2015-10-11T00:00:00\n",
       " 2015-09-27T00:00:00\n",
       " 2015-09-20T00:00:00\n",
       " 2015-09-13T00:00:00\n",
       " 2015-09-06T00:00:00\n",
       " 2015-08-30T00:00:00\n",
       " 2015-08-16T00:00:00\n",
       " ⋮                  \n",
       " 2014-08-09T00:00:00\n",
       " 2014-07-30T00:00:00\n",
       " 2014-07-23T00:00:00\n",
       " 2014-07-14T00:00:00\n",
       " 2014-07-02T00:00:00\n",
       " 2014-06-17T00:00:00\n",
       " 2014-05-27T00:00:00\n",
       " 2014-05-12T00:00:00\n",
       " 2014-05-01T00:00:00\n",
       " 2014-04-14T00:00:00\n",
       " 2014-03-31T00:00:00\n",
       " 2014-03-22T00:00:00"
      ]
     },
     "execution_count": 55,
     "metadata": {},
     "output_type": "execute_result"
    }
   ],
   "source": [
    "col1"
   ]
  },
  {
   "cell_type": "markdown",
   "metadata": {},
   "source": [
    "# Let's convert the date and month to integers\n",
    "\n",
    "----------------------------------------------------------------------------\n",
    "\n",
    "datetime2rata converts total number of days\n",
    "\n",
    "for ex: `27 July 2000` is a date. The datetime2rata calculates the total days from 1 january 0001 and returns total number of days, till now. \n",
    "but here the inital date is `22 March 2014`\n",
    "so let's subtract `col1` with `col[54] i.e 22 March 2014`\n",
    "\n"
   ]
  },
  {
   "cell_type": "code",
   "execution_count": 58,
   "metadata": {},
   "outputs": [],
   "source": [
    "using Dates\n",
    "j(a) = Dates.datetime2rata(a) - Dates.datetime2rata(col1[54])\n",
    "days = Array{Int64}(undef,54)\n",
    "for i = 1:length(col1)\n",
    "    days[i] = j(col1[i])\n",
    "end"
   ]
  },
  {
   "cell_type": "code",
   "execution_count": 60,
   "metadata": {},
   "outputs": [
    {
     "data": {
      "text/plain": [
       "54-element Array{Int64,1}:\n",
       " 613\n",
       " 606\n",
       " 599\n",
       " 592\n",
       " 582\n",
       " 575\n",
       " 568\n",
       " 554\n",
       " 547\n",
       " 540\n",
       " 533\n",
       " 526\n",
       " 512\n",
       "   ⋮\n",
       " 140\n",
       " 130\n",
       " 123\n",
       " 114\n",
       " 102\n",
       "  87\n",
       "  66\n",
       "  51\n",
       "  40\n",
       "  23\n",
       "   9\n",
       "   0"
      ]
     },
     "execution_count": 60,
     "metadata": {},
     "output_type": "execute_result"
    }
   ],
   "source": [
    "days"
   ]
  },
  {
   "cell_type": "code",
   "execution_count": 62,
   "metadata": {},
   "outputs": [],
   "source": [
    "df[:,1] = days\n",
    "DelimitedFiles.writedlm(\"../Data/Converted_dataset.csv\",df,',')"
   ]
  },
  {
   "cell_type": "code",
   "execution_count": null,
   "metadata": {},
   "outputs": [],
   "source": []
  },
  {
   "cell_type": "code",
   "execution_count": null,
   "metadata": {},
   "outputs": [],
   "source": []
  }
 ],
 "metadata": {
  "kernelspec": {
   "display_name": "Julia 1.0.4",
   "language": "julia",
   "name": "julia-1.0"
  },
  "language_info": {
   "file_extension": ".jl",
   "mimetype": "application/julia",
   "name": "julia",
   "version": "1.0.4"
  }
 },
 "nbformat": 4,
 "nbformat_minor": 4
}
